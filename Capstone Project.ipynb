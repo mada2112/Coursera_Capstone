{
 "cells": [
  {
   "cell_type": "markdown",
   "id": "affe62ad-0ceb-4c59-8b65-62d3dc133a26",
   "metadata": {},
   "source": [
    "# COURSERA CAPSTONE PROJECT"
   ]
  },
  {
   "cell_type": "markdown",
   "id": "ee5a4b77-dec8-4990-a2b8-5b4b57230c4b",
   "metadata": {},
   "source": [
    "This notebook will be mainly used for the capstone project for IBM Applied Data Science Capstone course on Coursera."
   ]
  },
  {
   "cell_type": "code",
   "execution_count": 3,
   "id": "9289dd34-6e6f-4aad-a998-79239854678a",
   "metadata": {},
   "outputs": [],
   "source": [
    "import pandas as pd"
   ]
  },
  {
   "cell_type": "code",
   "execution_count": 4,
   "id": "e667d4a2-f568-4f89-ad25-c586fbc36786",
   "metadata": {},
   "outputs": [],
   "source": [
    "import numpy as np"
   ]
  },
  {
   "cell_type": "code",
   "execution_count": 5,
   "id": "430b62c3-967b-41f7-8b44-f2d40337b260",
   "metadata": {},
   "outputs": [
    {
     "name": "stdout",
     "output_type": "stream",
     "text": [
      "Hello Capstone Project Course!\n"
     ]
    }
   ],
   "source": [
    "print(\"Hello Capstone Project Course!\")"
   ]
  },
  {
   "cell_type": "code",
   "execution_count": null,
   "id": "e35f573a-fabb-4cf1-afe1-ba78c2e90bdf",
   "metadata": {},
   "outputs": [],
   "source": []
  }
 ],
 "metadata": {
  "kernelspec": {
   "display_name": "Python",
   "language": "python",
   "name": "conda-env-python-py"
  },
  "language_info": {
   "codemirror_mode": {
    "name": "ipython",
    "version": 3
   },
   "file_extension": ".py",
   "mimetype": "text/x-python",
   "name": "python",
   "nbconvert_exporter": "python",
   "pygments_lexer": "ipython3",
   "version": "3.6.13"
  }
 },
 "nbformat": 4,
 "nbformat_minor": 5
}
